{
 "cells": [
  {
   "cell_type": "code",
   "execution_count": 38,
   "metadata": {
    "collapsed": true
   },
   "outputs": [],
   "source": [
    "#twoSum\n",
    "def twoSum(nums,target):\n",
    "    d={}\n",
    "    for i in range(len(nums)):\n",
    "        #print(\"hi\")\n",
    "        c=target-nums[i]\n",
    "        if (c in d):\n",
    "            return(nums.index(c),i)\n",
    "        d[nums[i]]=c\n",
    "            #print(\"hi\")\n",
    "# in operator has a time complexity of o(n) for list\n",
    "#use dictionary to make it even faster"
   ]
  },
  {
   "cell_type": "code",
   "execution_count": 39,
   "metadata": {},
   "outputs": [
    {
     "data": {
      "text/plain": [
       "(0, 3)"
      ]
     },
     "execution_count": 39,
     "metadata": {},
     "output_type": "execute_result"
    }
   ],
   "source": [
    "twoSum([1,2,14,4,6],5)"
   ]
  },
  {
   "cell_type": "code",
   "execution_count": 98,
   "metadata": {
    "collapsed": true
   },
   "outputs": [],
   "source": [
    "#palindrome\n",
    "def palindrome(s):\n",
    "    ns=[]\n",
    "    t=0\n",
    "    if (len(s) == 0):\n",
    "        print('pallindrome')\n",
    "    for x in range(len(s)):\n",
    "        if (s[x].isalnum()):\n",
    "            ns.append(s[x].lower())\n",
    "    l=len(ns)\n",
    "    for i in range(len(ns)):\n",
    "        if(ns[i]==ns[l-1]):\n",
    "            l=l-1\n",
    "        else:\n",
    "            t=1\n",
    "    if(t==0):\n",
    "        print(\"palindrome\")\n",
    "    else:\n",
    "        print(\"not\")\n",
    "        \n",
    "#isalnum returns a boolean value\n",
    "#.lower() is useful to convert to lower case"
   ]
  },
  {
   "cell_type": "code",
   "execution_count": 101,
   "metadata": {},
   "outputs": [
    {
     "name": "stdout",
     "output_type": "stream",
     "text": [
      "palindrome\n"
     ]
    }
   ],
   "source": [
    "palindrome(\"A man, a plan, a canal: Panama\")"
   ]
  },
  {
   "cell_type": "code",
   "execution_count": 116,
   "metadata": {
    "collapsed": true
   },
   "outputs": [],
   "source": [
    "#implement strstr ie to find string in a string\n",
    "def strstr(s,k):\n",
    "    l= len(s)\n",
    "    flag=0\n",
    "    lk=len(k)\n",
    "    if(lk>l):\n",
    "        return -1\n",
    "    if (lk==l):\n",
    "        if(s!=k):\n",
    "            return -1\n",
    "    for x in range(len(s)):\n",
    "        if (s[x]==k[0]):\n",
    "            for i in range(len(k)):\n",
    "                if((x+i)>len(s) or (x+i)==len(s)):\n",
    "                    flag=0\n",
    "                    break\n",
    "                print(x)\n",
    "                if((s[x+i]==k[i])):\n",
    "                    flag=flag+1\n",
    "                else:\n",
    "                    flag=0\n",
    "                    break\n",
    "            if(flag==len(k)):\n",
    "                return x\n",
    "    return -1\n",
    "#s.find(k) also works is faster and short but has few exceptions\n"
   ]
  },
  {
   "cell_type": "code",
   "execution_count": 117,
   "metadata": {},
   "outputs": [
    {
     "name": "stdout",
     "output_type": "stream",
     "text": [
      "2\n",
      "2\n",
      "3\n"
     ]
    },
    {
     "data": {
      "text/plain": [
       "-1"
      ]
     },
     "execution_count": 117,
     "metadata": {},
     "output_type": "execute_result"
    }
   ],
   "source": [
    "strstr(\"bbaa\",\"aab\")"
   ]
  },
  {
   "cell_type": "code",
   "execution_count": 169,
   "metadata": {
    "collapsed": true
   },
   "outputs": [],
   "source": [
    "#reverse words\n",
    "def reverse(s):\n",
    "    s1=[]\n",
    "    if(len(s)==0):\n",
    "        return(\"\")\n",
    "    for x in range(len(s)):\n",
    "        if (s[x]!=\" \"):\n",
    "            s1.append(s[x])\n",
    "    if(len(s1)==0):\n",
    "        return(\"\")\n",
    "    if(s[0]==\" \"):\n",
    "        s=s[1:]\n",
    "    if(s[-1]==\" \"):\n",
    "        s=s[:-1]\n",
    "    r = s.split(\" \")\n",
    "    r=r[-1::-1]\n",
    "    o=\" \".join(r)\n",
    "    return (o)\n"
   ]
  },
  {
   "cell_type": "code",
   "execution_count": 172,
   "metadata": {
    "collapsed": true
   },
   "outputs": [],
   "source": [
    "s=\"Hello\"\n",
    "s=s[-1::-1]"
   ]
  },
  {
   "cell_type": "code",
   "execution_count": 171,
   "metadata": {},
   "outputs": [
    {
     "data": {
      "text/plain": [
       "'a'"
      ]
     },
     "execution_count": 171,
     "metadata": {},
     "output_type": "execute_result"
    }
   ],
   "source": [
    "reverse(\" a \")"
   ]
  },
  {
   "cell_type": "code",
   "execution_count": 151,
   "metadata": {
    "collapsed": true
   },
   "outputs": [],
   "source": [
    "#longet Substing without repeating characters\n",
    "class Solution:\n",
    "    def lengthOfLongestSubstring(self, s):\n",
    "        \"\"\"\n",
    "        :type s: str\n",
    "        :rtype: int\n",
    "        \"\"\"\n",
    "\n",
    "        c=[]\n",
    "        maxi=0\n",
    "        for i in range(len(s)):\n",
    "            for j in range(i,len(s)):\n",
    "                if s[j] not in c:\n",
    "                    c.append(s[j])\n",
    "                    if len(c)>=maxi:\n",
    "                        maxi=len(c)\n",
    "                else:\n",
    "                    c=[]\n",
    "                    break\n",
    "            if maxi>=len(s[i:]):\n",
    "                break\n",
    "            if maxi>=95: # 95 is the no of special characters in total.\n",
    "                break\n",
    "        return maxi\n",
    "\n",
    "\n",
    "\n"
   ]
  },
  {
   "cell_type": "code",
   "execution_count": 152,
   "metadata": {},
   "outputs": [
    {
     "data": {
      "text/plain": [
       "3"
      ]
     },
     "execution_count": 152,
     "metadata": {},
     "output_type": "execute_result"
    }
   ],
   "source": [
    "Solution.lengthOfLongestSubstring(1,\"pwwkew\")"
   ]
  },
  {
   "cell_type": "code",
   "execution_count": 32,
   "metadata": {
    "collapsed": true
   },
   "outputs": [],
   "source": [
    "class Solution(object):\n",
    "    def isValid(self, s):\n",
    "        \"\"\"\n",
    "        :type s: str\n",
    "        :rtype: bool\n",
    "        \"\"\"\n",
    "        if len(s)==0:\n",
    "            return True\n",
    "        openbrackets = ['{','[','(']\n",
    "        closedbrackets = ['}',']',')']\n",
    "        if (len(s)%2 != 0):\n",
    "            return False\n",
    "        if(s[0] in closedbrackets):\n",
    "            return False\n",
    "        l=[]\n",
    "        flag=0\n",
    "        for x in range(len(s)):\n",
    "            if s[x] in openbrackets:\n",
    "                l.append(s[x])\n",
    "                flag=1\n",
    "            elif s[x] in closedbrackets:\n",
    "                if l.pop() == openbrackets[closedbrackets.index(s[x])]:\n",
    "                    flag = 0\n",
    "                    continue\n",
    "                else:\n",
    "                    return False\n",
    "        if flag == 0:\n",
    "            return True\n",
    "        else:\n",
    "            return False\n",
    "        \n",
    "#use a dictionary instead of two lists for open and closed brackets.\n",
    "#the always check only for closed and open bracket pair\n",
    "#pop returns the most recent element"
   ]
  },
  {
   "cell_type": "code",
   "execution_count": 33,
   "metadata": {},
   "outputs": [
    {
     "data": {
      "text/plain": [
       "False"
      ]
     },
     "execution_count": 33,
     "metadata": {},
     "output_type": "execute_result"
    }
   ],
   "source": [
    "Solution.isValid(1,\"((\")"
   ]
  },
  {
   "cell_type": "code",
   "execution_count": 211,
   "metadata": {
    "collapsed": true
   },
   "outputs": [],
   "source": [
    "class Solution(object):\n",
    "    def plusOne(self, digits):\n",
    "        \"\"\"\n",
    "        :type digits: List[int]\n",
    "        :rtype: List[int]\n",
    "        \"\"\"\n",
    "        l = len(digits)\n",
    "        x=l-1\n",
    "        while (x>-1):\n",
    "            digits[x] = digits[x]+ 1\n",
    "            if digits[x] < 10: \n",
    "                break \n",
    "            digits[x] = 0\n",
    "            x=x-1    \n",
    "        if digits[0] == 0: \n",
    "            digits = [1] + digits\n",
    "            \n",
    "        return digits\n"
   ]
  },
  {
   "cell_type": "code",
   "execution_count": 212,
   "metadata": {},
   "outputs": [
    {
     "data": {
      "text/plain": [
       "[1, 2, 9, 0]"
      ]
     },
     "execution_count": 212,
     "metadata": {},
     "output_type": "execute_result"
    }
   ],
   "source": [
    "Solution.plusOne(1,[1,2,8,9])"
   ]
  },
  {
   "cell_type": "code",
   "execution_count": 100,
   "metadata": {},
   "outputs": [
    {
     "data": {
      "text/plain": [
       "[4, 3, 2, 1]"
      ]
     },
     "execution_count": 100,
     "metadata": {},
     "output_type": "execute_result"
    }
   ],
   "source": [
    "s = [1,2,3,4]\n",
    "s[::-1]"
   ]
  },
  {
   "cell_type": "code",
   "execution_count": null,
   "metadata": {
    "collapsed": true
   },
   "outputs": [],
   "source": [
    "class MinStack(object):\n",
    "\n",
    "    def __init__(self):\n",
    "        \"\"\"\n",
    "        initialize your data structure here.\n",
    "        \"\"\"\n",
    "        self.c=[]\n",
    "\n",
    "    def push(self, x):\n",
    "        \"\"\"\n",
    "        :type x: int\n",
    "        :rtype: void\n",
    "        \"\"\"\n",
    "        self.c.append(x)\n",
    "\n",
    "    def pop(self):\n",
    "        \"\"\"\n",
    "        :rtype: void\n",
    "        \"\"\"\n",
    "        #return self.c[-1]\n",
    "        self.c=self.c[:-1]\n",
    "\n",
    "    def top(self):\n",
    "        \"\"\"\n",
    "        :rtype: int\n",
    "        \"\"\"\n",
    "        return self.c[-1]\n",
    "\n",
    "    def getMin(self):\n",
    "        \"\"\"\n",
    "        :rtype: int\n",
    "        \"\"\"\n",
    "        return min(self.c)\n",
    "    \n",
    "#implementing stack functionality\n",
    "# MinStack minStack = new MinStack();\n",
    "# minStack.push(-2);\n",
    "# minStack.push(0);\n",
    "# minStack.push(-3);\n",
    "# minStack.getMin();   --> Returns -3.\n",
    "# minStack.pop();\n",
    "# minStack.top();      --> Returns 0.\n",
    "# minStack.getMin();   --> Returns -2.\n"
   ]
  },
  {
   "cell_type": "code",
   "execution_count": 213,
   "metadata": {
    "collapsed": true
   },
   "outputs": [],
   "source": [
    "# Definition for a binary tree node.\n",
    "# class TreeNode:\n",
    "#     def __init__(self, x):\n",
    "#         self.val = x\n",
    "#         self.left = None\n",
    "#         self.right = None\n",
    "\n",
    "class Solution:\n",
    "    def maxDepth(self, root):\n",
    "        \"\"\"\n",
    "        :type root: TreeNode\n",
    "        :rtype: int\n",
    "        \"\"\"\n",
    "        if (root == None):\n",
    "            return 0\n",
    "        \n",
    "        else:\n",
    "            l = self.maxDepth(root.left)\n",
    "            r = self.maxDepth (root.right)\n",
    "            \n",
    "            l=l+1\n",
    "            r=r+1\n",
    "            \n",
    "            if(l>r):\n",
    "                return l\n",
    "            else :\n",
    "                return r\n",
    "\n",
    "#max depth of binary tree\n"
   ]
  },
  {
   "cell_type": "code",
   "execution_count": null,
   "metadata": {
    "collapsed": true
   },
   "outputs": [],
   "source": [
    "#single number\n",
    "\n",
    "class Solution:\n",
    "    def singleNumber(self, nums):\n",
    "        \"\"\"\n",
    "        :type nums: List[int]\n",
    "        :rtype: int\n",
    "        \"\"\"\n",
    "        a = nums[0]\n",
    "        for elem in nums[1:]:\n",
    "            a = a ^ elem\n",
    "\n",
    "        return a\n",
    "\n",
    "#set solution : return (2*sum(set(nums)) - (sum(nums)))\n",
    "\n",
    "#XOR returns unique elements from a list \n",
    "#XOR is ^\n"
   ]
  },
  {
   "cell_type": "code",
   "execution_count": 232,
   "metadata": {
    "collapsed": true
   },
   "outputs": [],
   "source": [
    "class Solution:\n",
    "    def isPowerOfThree(self, n):\n",
    "        \"\"\"\n",
    "        :type n: int\n",
    "        :rtype: bool\n",
    "        \"\"\"\n",
    "        while n % 3 == 0 and n >= 1:\n",
    "            n /= 3\n",
    "        return n == 1\n",
    "#to check if a number is in power 3 example 9 = 3 ^2\n",
    "# for power x replace 3 by x"
   ]
  },
  {
   "cell_type": "code",
   "execution_count": 232,
   "metadata": {},
   "outputs": [],
   "source": [
    "class Solution:\n",
    "    def reverseVowels(self, s):\n",
    "        from collections import defaultdict\n",
    "        vowels = {'a':True,'e':True,'i':True,'o':True,'u':True,'A':True,'E':True,'I':True,'O':True,'U':True}\n",
    "        vowels = defaultdict(lambda: False, vowels)\n",
    "        r = [c for c in s if vowels[c]]\n",
    "        final1=''\n",
    "        for c in s:\n",
    "            if(vowels[c]==True):\n",
    "                final1=final1 + (r.pop())\n",
    "            elif(vowels[c]==False):\n",
    "                final1=final1 + (c)\n",
    "\n",
    "        return final1\n",
    "# r contains all the vowels in the order on poping from the list we can exchange it while iterating through the loop"
   ]
  },
  {
   "cell_type": "code",
   "execution_count": 230,
   "metadata": {},
   "outputs": [
    {
     "data": {
      "text/plain": [
       "'holle'"
      ]
     },
     "execution_count": 230,
     "metadata": {},
     "output_type": "execute_result"
    }
   ],
   "source": [
    "Solution.reverseVowels(1,\"hello\")"
   ]
  },
  {
   "cell_type": "code",
   "execution_count": 231,
   "metadata": {},
   "outputs": [
    {
     "data": {
      "text/plain": [
       "'euston saw I was not SuE'"
      ]
     },
     "execution_count": 231,
     "metadata": {},
     "output_type": "execute_result"
    }
   ],
   "source": [
    "Solution.reverseVowels(1,\"Euston saw I was not Sue\")"
   ]
  },
  {
   "cell_type": "code",
   "execution_count": 294,
   "metadata": {},
   "outputs": [],
   "source": [
    "class Solution:\n",
    "    def firstUniqChar(self, s):\n",
    "        \"\"\"\n",
    "        :type s: str\n",
    "        :rtype: int\n",
    "        \"\"\"\n",
    "        if len(s)==0:\n",
    "            return -1\n",
    "        from collections import defaultdict\n",
    "        d = {}\n",
    "        d = defaultdict(lambda: [0,0], d)\n",
    "        for x in range(len(s)):\n",
    "            d[s[x]][0] = d[s[x]][0] + 1\n",
    "            d[s[x]][1] = x\n",
    "            \n",
    "        for x in s:\n",
    "            if d[x][0] == 1:\n",
    "                return d[x][1]\n",
    "        return -1\n",
    "                \n",
    "# default dict we can provide default values in the dictionary\n",
    "# \n",
    "                "
   ]
  },
  {
   "cell_type": "code",
   "execution_count": 295,
   "metadata": {},
   "outputs": [
    {
     "data": {
      "text/plain": [
       "2"
      ]
     },
     "execution_count": 295,
     "metadata": {},
     "output_type": "execute_result"
    }
   ],
   "source": [
    "Solution.firstUniqChar(1,'loveleetcode')"
   ]
  },
  {
   "cell_type": "code",
   "execution_count": 296,
   "metadata": {
    "collapsed": true
   },
   "outputs": [],
   "source": [
    "class Solution:\n",
    "    def findDisappearedNumbers(self, nums):\n",
    "        \"\"\"\n",
    "        :type nums: List[int]\n",
    "        :rtype: List[int]\n",
    "        \"\"\"\n",
    "        l = []\n",
    "        length = len(nums)+1\n",
    "        nums = set(nums)\n",
    "        for x in range(1,length):\n",
    "            if x not in nums:\n",
    "                l.append(x)\n",
    "        return l\n",
    "# input array is the elements in the range of 1 - length of array\n",
    "#find the missing numbers"
   ]
  },
  {
   "cell_type": "code",
   "execution_count": 297,
   "metadata": {},
   "outputs": [
    {
     "data": {
      "text/plain": [
       "[5, 6]"
      ]
     },
     "execution_count": 297,
     "metadata": {},
     "output_type": "execute_result"
    }
   ],
   "source": [
    "Solution.findDisappearedNumbers(1,[4,3,2,7,8,2,3,1])"
   ]
  },
  {
   "cell_type": "code",
   "execution_count": 343,
   "metadata": {},
   "outputs": [],
   "source": [
    "class Solution:\n",
    "    def islandPerimeter(self, grid):\n",
    "        \"\"\"\n",
    "        :type grid: List[List[int]]\n",
    "        :rtype: int\n",
    "        \"\"\"\n",
    "        perimeter = 0\n",
    "        height = len(grid)\n",
    "        width = len(grid[0])\n",
    "        l=1\n",
    "        for i in range(height):\n",
    "            for j in range(width):\n",
    "                if grid[i][j]==1:\n",
    "                    count = 4 # initiliasing such that every element in grid has water on all sides\n",
    "                    if (j!= width-1):\n",
    "                        if(grid[i][j+1] == 1):\n",
    "                            count -= 1\n",
    "                    if (j!=0):\n",
    "                        if(grid[i][j-1]==1):\n",
    "                            count -= 1\n",
    "                    if (i!=0):\n",
    "                        if (grid[i-1][j] == 1):\n",
    "                            count -= 1       \n",
    "                    if (i!= height-1):\n",
    "                        if (grid[i+1][j] == 1):\n",
    "                            count -= 1\n",
    "                    perimeter += count\n",
    "                  \n",
    "        return perimeter\n",
    "#Take 4 sides water for each element in grid then subtract one for every neighbouring landmark"
   ]
  },
  {
   "cell_type": "code",
   "execution_count": 344,
   "metadata": {},
   "outputs": [
    {
     "data": {
      "text/plain": [
       "16"
      ]
     },
     "execution_count": 344,
     "metadata": {},
     "output_type": "execute_result"
    }
   ],
   "source": [
    "Solution.islandPerimeter(1,[[0,1,0,0],[1,1,1,0],[0,1,0,0],[1,1,0,0]])"
   ]
  },
  {
   "cell_type": "code",
   "execution_count": 345,
   "metadata": {
    "collapsed": true
   },
   "outputs": [],
   "source": [
    "class Solution:\n",
    "    def judgeCircle(self, moves):\n",
    "        \"\"\"\n",
    "        :type moves: str\n",
    "        :rtype: bool\n",
    "        \"\"\"\n",
    "        validmove={'U':0,'D':0,'L':0,'R':0}\n",
    "        for x in moves:\n",
    "            validmove[x] = validmove + 1\n",
    "        if (validmove['U']!=validmove['D']):\n",
    "            return False\n",
    "        if (validmove['R']!=validmove['L']):\n",
    "            return False\n",
    "        return True\n",
    "#add move values into dictionary and check if up and down are equal and left-right are equal"
   ]
  },
  {
   "cell_type": "code",
   "execution_count": 357,
   "metadata": {},
   "outputs": [],
   "source": [
    "class Solution:\n",
    "    def flipAndInvertImage(self, A):\n",
    "        \"\"\"\n",
    "        :type A: List[List[int]]\n",
    "        :rtype: List[List[int]]\n",
    "        \"\"\"\n",
    "        result=[]\n",
    "        \n",
    "        def flipinverse(l):\n",
    "            \n",
    "            #l = [int(not(x)) for x in l[::-1]] single line code\n",
    "            l=l[::-1]\n",
    "            l = [int(not(x)) for x in l]\n",
    "            return l\n",
    "        \n",
    "        for i in A:\n",
    "            result.append(flipinverse(i))\n",
    "        return result\n",
    "#flip is reversing a list\n",
    "#invert is chainging 0 to 1 and vice versae\n"
   ]
  },
  {
   "cell_type": "code",
   "execution_count": 354,
   "metadata": {},
   "outputs": [],
   "source": [
    "l=[1,0,1,0]\n",
    "l = [int(not(x)) for x in l]"
   ]
  },
  {
   "cell_type": "code",
   "execution_count": 355,
   "metadata": {},
   "outputs": [
    {
     "data": {
      "text/plain": [
       "[0, 1, 0, 1]"
      ]
     },
     "execution_count": 355,
     "metadata": {},
     "output_type": "execute_result"
    }
   ],
   "source": [
    "l"
   ]
  },
  {
   "cell_type": "code",
   "execution_count": 359,
   "metadata": {
    "collapsed": true
   },
   "outputs": [],
   "source": [
    "class Solution:\n",
    "    def numUniqueEmails(self, emails):\n",
    "        \"\"\"\n",
    "        :type emails: List[str]\n",
    "        :rtype: int\n",
    "        \"\"\"\n",
    "        \n",
    "        unique = set()\n",
    "        for l in L:\n",
    "            string = ''\n",
    "            local_name, domain_name = l.split('@')\n",
    "            string = string + local_name.strip('.')\n",
    "            for ln in local_name:\n",
    "                if ln == '.':\n",
    "                    continue\n",
    "                elif ln == '+':\n",
    "                    break\n",
    "                else:\n",
    "                    string += ln\n",
    "            string += domain_name\n",
    "            if string in dict_word.keys():\n",
    "                dict_word[string] += 1\n",
    "            else:\n",
    "                dict_word[string] = 1\n",
    "\n",
    "        groups = 0\n",
    "        for _, value in dict_word.items():# useful to iterate dictionary without keys\n",
    "            if value > 1:# we can check if the values of dictionary are greater than one for uniques emails\n",
    "                groups += 1\n",
    "\n",
    "        return groups # if we want to return only unique emails then return only the length of dictionary\n",
    "    \n",
    "    #better solution\n",
    "    def numUniqueEmails1(self, emails):\n",
    "        output = set()\n",
    "        for em in emails:\n",
    "            local,domain = em.split(\"@\")\n",
    "            local = local.replace(\".\",\"\")\n",
    "            locs = local.split(\"+\")\n",
    "            part1 = locs[0] + \"@\" + domain\n",
    "            output.add(part1)\n",
    "        return len(output)\n",
    "# set automatically checks for unique ids only so no need of any for loop "
   ]
  },
  {
   "cell_type": "code",
   "execution_count": null,
   "metadata": {
    "collapsed": true
   },
   "outputs": [],
   "source": []
  }
 ],
 "metadata": {
  "kernelspec": {
   "display_name": "Python 3",
   "language": "python",
   "name": "python3"
  },
  "language_info": {
   "codemirror_mode": {
    "name": "ipython",
    "version": 3
   },
   "file_extension": ".py",
   "mimetype": "text/x-python",
   "name": "python",
   "nbconvert_exporter": "python",
   "pygments_lexer": "ipython3",
   "version": "3.6.3"
  }
 },
 "nbformat": 4,
 "nbformat_minor": 2
}
