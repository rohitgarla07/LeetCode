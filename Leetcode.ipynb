{
 "cells": [
  {
   "cell_type": "code",
   "execution_count": 38,
   "metadata": {
    "collapsed": true
   },
   "outputs": [],
   "source": [
    "#twoSum\n",
    "def twoSum(nums,target):\n",
    "    d={}\n",
    "    for i in range(len(nums)):\n",
    "        #print(\"hi\")\n",
    "        c=target-nums[i]\n",
    "        if (c in d):\n",
    "            return(nums.index(c),i)\n",
    "        d[nums[i]]=c\n",
    "            #print(\"hi\")\n",
    "# in operator has a time complexity of o(n) for list\n",
    "#use dictionary to make it even faster"
   ]
  },
  {
   "cell_type": "code",
   "execution_count": 39,
   "metadata": {},
   "outputs": [
    {
     "data": {
      "text/plain": [
       "(0, 3)"
      ]
     },
     "execution_count": 39,
     "metadata": {},
     "output_type": "execute_result"
    }
   ],
   "source": [
    "twoSum([1,2,14,4,6],5)"
   ]
  },
  {
   "cell_type": "code",
   "execution_count": 98,
   "metadata": {
    "collapsed": true
   },
   "outputs": [],
   "source": [
    "#palindrome\n",
    "def palindrome(s):\n",
    "    ns=[]\n",
    "    t=0\n",
    "    if (len(s) == 0):\n",
    "        print('pallindrome')\n",
    "    for x in range(len(s)):\n",
    "        if (s[x].isalnum()):\n",
    "            ns.append(s[x].lower())\n",
    "    l=len(ns)\n",
    "    for i in range(len(ns)):\n",
    "        if(ns[i]==ns[l-1]):\n",
    "            l=l-1\n",
    "        else:\n",
    "            t=1\n",
    "    if(t==0):\n",
    "        print(\"palindrome\")\n",
    "    else:\n",
    "        print(\"not\")\n",
    "        \n",
    "#isalnum returns a boolean value\n",
    "#.lower() is useful to convert to lower case"
   ]
  },
  {
   "cell_type": "code",
   "execution_count": 101,
   "metadata": {},
   "outputs": [
    {
     "name": "stdout",
     "output_type": "stream",
     "text": [
      "palindrome\n"
     ]
    }
   ],
   "source": [
    "palindrome(\"A man, a plan, a canal: Panama\")"
   ]
  },
  {
   "cell_type": "code",
   "execution_count": 116,
   "metadata": {
    "collapsed": true
   },
   "outputs": [],
   "source": [
    "#implement strstr ie to find string in a string\n",
    "def strstr(s,k):\n",
    "    l= len(s)\n",
    "    flag=0\n",
    "    lk=len(k)\n",
    "    if(lk>l):\n",
    "        return -1\n",
    "    if (lk==l):\n",
    "        if(s!=k):\n",
    "            return -1\n",
    "    for x in range(len(s)):\n",
    "        if (s[x]==k[0]):\n",
    "            for i in range(len(k)):\n",
    "                if((x+i)>len(s) or (x+i)==len(s)):\n",
    "                    flag=0\n",
    "                    break\n",
    "                print(x)\n",
    "                if((s[x+i]==k[i])):\n",
    "                    flag=flag+1\n",
    "                else:\n",
    "                    flag=0\n",
    "                    break\n",
    "            if(flag==len(k)):\n",
    "                return x\n",
    "    return -1\n",
    "#s.find(k) also works is faster and short but has few exceptions\n"
   ]
  },
  {
   "cell_type": "code",
   "execution_count": 117,
   "metadata": {},
   "outputs": [
    {
     "name": "stdout",
     "output_type": "stream",
     "text": [
      "2\n",
      "2\n",
      "3\n"
     ]
    },
    {
     "data": {
      "text/plain": [
       "-1"
      ]
     },
     "execution_count": 117,
     "metadata": {},
     "output_type": "execute_result"
    }
   ],
   "source": [
    "strstr(\"bbaa\",\"aab\")"
   ]
  },
  {
   "cell_type": "code",
   "execution_count": 169,
   "metadata": {
    "collapsed": true
   },
   "outputs": [],
   "source": [
    "#reverse words\n",
    "def reverse(s):\n",
    "    s1=[]\n",
    "    if(len(s)==0):\n",
    "        return(\"\")\n",
    "    for x in range(len(s)):\n",
    "        if (s[x]!=\" \"):\n",
    "            s1.append(s[x])\n",
    "    if(len(s1)==0):\n",
    "        return(\"\")\n",
    "    if(s[0]==\" \"):\n",
    "        s=s[1:]\n",
    "    if(s[-1]==\" \"):\n",
    "        s=s[:-1]\n",
    "    r = s.split(\" \")\n",
    "    r=r[-1::-1]\n",
    "    o=\" \".join(r)\n",
    "    return (o)\n"
   ]
  },
  {
   "cell_type": "code",
   "execution_count": 172,
   "metadata": {
    "collapsed": true
   },
   "outputs": [],
   "source": [
    "s=\"Hello\"\n",
    "s=s[-1::-1]"
   ]
  },
  {
   "cell_type": "code",
   "execution_count": 171,
   "metadata": {},
   "outputs": [
    {
     "data": {
      "text/plain": [
       "'a'"
      ]
     },
     "execution_count": 171,
     "metadata": {},
     "output_type": "execute_result"
    }
   ],
   "source": [
    "reverse(\" a \")"
   ]
  },
  {
   "cell_type": "code",
   "execution_count": 151,
   "metadata": {
    "collapsed": true
   },
   "outputs": [],
   "source": [
    "#longet Substing without repeating characters\n",
    "class Solution:\n",
    "    def lengthOfLongestSubstring(self, s):\n",
    "        \"\"\"\n",
    "        :type s: str\n",
    "        :rtype: int\n",
    "        \"\"\"\n",
    "\n",
    "        c=[]\n",
    "        maxi=0\n",
    "        for i in range(len(s)):\n",
    "            for j in range(i,len(s)):\n",
    "                if s[j] not in c:\n",
    "                    c.append(s[j])\n",
    "                    if len(c)>=maxi:\n",
    "                        maxi=len(c)\n",
    "                else:\n",
    "                    c=[]\n",
    "                    break\n",
    "            if maxi>=len(s[i:]):\n",
    "                break\n",
    "            if maxi>=95: # 95 is the no of special characters in total.\n",
    "                break\n",
    "        return maxi\n",
    "\n",
    "\n",
    "\n"
   ]
  },
  {
   "cell_type": "code",
   "execution_count": 152,
   "metadata": {},
   "outputs": [
    {
     "data": {
      "text/plain": [
       "3"
      ]
     },
     "execution_count": 152,
     "metadata": {},
     "output_type": "execute_result"
    }
   ],
   "source": [
    "Solution.lengthOfLongestSubstring(1,\"pwwkew\")"
   ]
  },
  {
   "cell_type": "code",
   "execution_count": 32,
   "metadata": {},
   "outputs": [],
   "source": [
    "class Solution(object):\n",
    "    def isValid(self, s):\n",
    "        \"\"\"\n",
    "        :type s: str\n",
    "        :rtype: bool\n",
    "        \"\"\"\n",
    "        if len(s)==0:\n",
    "            return True\n",
    "        openbrackets = ['{','[','(']\n",
    "        closedbrackets = ['}',']',')']\n",
    "        if (len(s)%2 != 0):\n",
    "            return False\n",
    "        if(s[0] in closedbrackets):\n",
    "            return False\n",
    "        l=[]\n",
    "        flag=0\n",
    "        for x in range(len(s)):\n",
    "            if s[x] in openbrackets:\n",
    "                l.append(s[x])\n",
    "                flag=1\n",
    "            elif s[x] in closedbrackets:\n",
    "                if l.pop() == openbrackets[closedbrackets.index(s[x])]:\n",
    "                    flag = 0\n",
    "                    continue\n",
    "                else:\n",
    "                    return False\n",
    "        if flag == 0:\n",
    "            return True\n",
    "        else:\n",
    "            return False\n",
    "        \n",
    "#use a dictionary instead of two lists for open and closed brackets.\n",
    "#the always check only for closed and open bracket pair\n",
    "#pop returns the most recent element"
   ]
  },
  {
   "cell_type": "code",
   "execution_count": 33,
   "metadata": {},
   "outputs": [
    {
     "data": {
      "text/plain": [
       "False"
      ]
     },
     "execution_count": 33,
     "metadata": {},
     "output_type": "execute_result"
    }
   ],
   "source": [
    "Solution.isValid(1,\"((\")"
   ]
  },
  {
   "cell_type": "code",
   "execution_count": 211,
   "metadata": {},
   "outputs": [],
   "source": [
    "class Solution(object):\n",
    "    def plusOne(self, digits):\n",
    "        \"\"\"\n",
    "        :type digits: List[int]\n",
    "        :rtype: List[int]\n",
    "        \"\"\"\n",
    "        l = len(digits)\n",
    "        x=l-1\n",
    "        while (x>-1):\n",
    "            digits[x] = digits[x]+ 1\n",
    "            if digits[x] < 10: \n",
    "                break \n",
    "            digits[x] = 0\n",
    "            x=x-1    \n",
    "        if digits[0] == 0: \n",
    "            digits = [1] + digits\n",
    "            \n",
    "        return digits\n"
   ]
  },
  {
   "cell_type": "code",
   "execution_count": 212,
   "metadata": {},
   "outputs": [
    {
     "data": {
      "text/plain": [
       "[1, 2, 9, 0]"
      ]
     },
     "execution_count": 212,
     "metadata": {},
     "output_type": "execute_result"
    }
   ],
   "source": [
    "Solution.plusOne(1,[1,2,8,9])"
   ]
  },
  {
   "cell_type": "code",
   "execution_count": 100,
   "metadata": {},
   "outputs": [
    {
     "data": {
      "text/plain": [
       "[4, 3, 2, 1]"
      ]
     },
     "execution_count": 100,
     "metadata": {},
     "output_type": "execute_result"
    }
   ],
   "source": [
    "s = [1,2,3,4]\n",
    "s[::-1]"
   ]
  },
  {
   "cell_type": "code",
   "execution_count": null,
   "metadata": {
    "collapsed": true
   },
   "outputs": [],
   "source": [
    "class MinStack(object):\n",
    "\n",
    "    def __init__(self):\n",
    "        \"\"\"\n",
    "        initialize your data structure here.\n",
    "        \"\"\"\n",
    "        self.c=[]\n",
    "\n",
    "    def push(self, x):\n",
    "        \"\"\"\n",
    "        :type x: int\n",
    "        :rtype: void\n",
    "        \"\"\"\n",
    "        self.c.append(x)\n",
    "\n",
    "    def pop(self):\n",
    "        \"\"\"\n",
    "        :rtype: void\n",
    "        \"\"\"\n",
    "        #return self.c[-1]\n",
    "        self.c=self.c[:-1]\n",
    "\n",
    "    def top(self):\n",
    "        \"\"\"\n",
    "        :rtype: int\n",
    "        \"\"\"\n",
    "        return self.c[-1]\n",
    "\n",
    "    def getMin(self):\n",
    "        \"\"\"\n",
    "        :rtype: int\n",
    "        \"\"\"\n",
    "        return min(self.c)\n",
    "    \n",
    "#implementing stack functionality\n",
    "# MinStack minStack = new MinStack();\n",
    "# minStack.push(-2);\n",
    "# minStack.push(0);\n",
    "# minStack.push(-3);\n",
    "# minStack.getMin();   --> Returns -3.\n",
    "# minStack.pop();\n",
    "# minStack.top();      --> Returns 0.\n",
    "# minStack.getMin();   --> Returns -2.\n"
   ]
  },
  {
   "cell_type": "code",
   "execution_count": 213,
   "metadata": {
    "collapsed": true
   },
   "outputs": [],
   "source": [
    "# Definition for a binary tree node.\n",
    "# class TreeNode:\n",
    "#     def __init__(self, x):\n",
    "#         self.val = x\n",
    "#         self.left = None\n",
    "#         self.right = None\n",
    "\n",
    "class Solution:\n",
    "    def maxDepth(self, root):\n",
    "        \"\"\"\n",
    "        :type root: TreeNode\n",
    "        :rtype: int\n",
    "        \"\"\"\n",
    "        if (root == None):\n",
    "            return 0\n",
    "        \n",
    "        else:\n",
    "            l = self.maxDepth(root.left)\n",
    "            r = self.maxDepth (root.right)\n",
    "            \n",
    "            l=l+1\n",
    "            r=r+1\n",
    "            \n",
    "            if(l>r):\n",
    "                return l\n",
    "            else :\n",
    "                return r\n",
    "\n",
    "#max depth of binary tree\n"
   ]
  },
  {
   "cell_type": "code",
   "execution_count": null,
   "metadata": {
    "collapsed": true
   },
   "outputs": [],
   "source": [
    "#single number\n",
    "\n",
    "class Solution:\n",
    "    def singleNumber(self, nums):\n",
    "        \"\"\"\n",
    "        :type nums: List[int]\n",
    "        :rtype: int\n",
    "        \"\"\"\n",
    "        a = nums[0]\n",
    "        for elem in nums[1:]:\n",
    "            a = a ^ elem\n",
    "\n",
    "        return a\n",
    "\n",
    "#set solution : return (2*sum(set(nums)) - (sum(nums)))\n",
    "\n",
    "#XOR returns unique elements from a list \n",
    "#XOR is ^\n"
   ]
  },
  {
   "cell_type": "code",
   "execution_count": 232,
   "metadata": {},
   "outputs": [],
   "source": [
    "class Solution:\n",
    "    def isPowerOfThree(self, n):\n",
    "        \"\"\"\n",
    "        :type n: int\n",
    "        :rtype: bool\n",
    "        \"\"\"\n",
    "        while n % 3 == 0 and n >= 1:\n",
    "            n /= 3\n",
    "        return n == 1\n",
    "#to check if a number is in power 3 example 9 = 3 ^2\n",
    "# for power x replace 3 by x"
   ]
  },
  {
   "cell_type": "code",
   "execution_count": 433,
   "metadata": {},
   "outputs": [],
   "source": [
    "class Solution:\n",
    "    def reverseVowels(self, s):\n",
    "        \"\"\"\n",
    "        :type s: str\n",
    "        :rtype: str\n",
    "        \"\"\"\n",
    "        def reverse(s):\n",
    "            vowels = ['a','e','i','o','u','A','E','I','O','U']\n",
    "            c=[]\n",
    "            flagl=0\n",
    "            flagr=0\n",
    "            l1=[]\n",
    "            t=0\n",
    "            e=''\n",
    "            l=0\n",
    "            r=len(s)-1\n",
    "            for x in range(len(s)):\n",
    "                l1.append(s[x])\n",
    "            while ((l<r)):\n",
    "                if (s[r].isalpha()==False):\n",
    "                    r=r-1\n",
    "                if(s[l].isalpha()==False):\n",
    "                    l=l+1\n",
    "            #while (l<=r):    \n",
    "                if s[l] in vowels:\n",
    "                    c.append(l)\n",
    "                    flagl=1\n",
    "                    l=l+1\n",
    "                    if((len(c)==2) and (flagr==1)):\n",
    "                        t = l1[c[1]]\n",
    "                        l1[c[1]]=l1[c[0]]\n",
    "                        l1[c[0]]=t\n",
    "                        c=[]\n",
    "                        flagl=0\n",
    "                        flagr=0\n",
    "                else:\n",
    "                    l=l+1\n",
    "                if s[r] in vowels:\n",
    "                    c.append(r)\n",
    "                    flagr=1\n",
    "                    r=r-1\n",
    "                    if((len(c)==2) and (flagl==1)):\n",
    "                        t = l1[c[0]]\n",
    "                        l1[c[0]]=l1[c[1]]\n",
    "                        l1[c[1]]=t\n",
    "                        c=[]\n",
    "                        flagr=0\n",
    "                        flagl=0\n",
    "                else:\n",
    "                    r=r-1\n",
    "                    \n",
    "            for x in l1:    \n",
    "                e=e+x\n",
    "          \n",
    "            return (e)\n",
    "#         j = s.split(' ')\n",
    "#         e=''\n",
    "        \n",
    "#         newstring = []\n",
    "#         for x in range(len(j)):\n",
    "\n",
    "#             newstring.append(reverse(j[x]))\n",
    "#         return (' '.join(word for word in newstring))\n",
    "        return reverse(s)"
   ]
  },
  {
   "cell_type": "code",
   "execution_count": 434,
   "metadata": {},
   "outputs": [
    {
     "data": {
      "text/plain": [
       "'Marge, let\\'s \"went.\" I await news telegram.'"
      ]
     },
     "execution_count": 434,
     "metadata": {},
     "output_type": "execute_result"
    }
   ],
   "source": [
    "Solution.reverseVowels(1,\"Marge, let's \\\"went.\\\" I await news telegram.\")"
   ]
  },
  {
   "cell_type": "code",
   "execution_count": 404,
   "metadata": {},
   "outputs": [
    {
     "data": {
      "text/plain": [
       "'euston saw I was not SuE'"
      ]
     },
     "execution_count": 404,
     "metadata": {},
     "output_type": "execute_result"
    }
   ],
   "source": [
    "Solution.reverseVowels(1,\"Euston saw I was not Sue\")"
   ]
  },
  {
   "cell_type": "code",
   "execution_count": 388,
   "metadata": {},
   "outputs": [],
   "source": [
    "c=[0,1]\n",
    "c[0]=1"
   ]
  },
  {
   "cell_type": "code",
   "execution_count": 389,
   "metadata": {},
   "outputs": [
    {
     "data": {
      "text/plain": [
       "[1, 1]"
      ]
     },
     "execution_count": 389,
     "metadata": {},
     "output_type": "execute_result"
    }
   ],
   "source": [
    "c"
   ]
  },
  {
   "cell_type": "code",
   "execution_count": null,
   "metadata": {
    "collapsed": true
   },
   "outputs": [],
   "source": []
  }
 ],
 "metadata": {
  "kernelspec": {
   "display_name": "Python 3",
   "language": "python",
   "name": "python3"
  },
  "language_info": {
   "codemirror_mode": {
    "name": "ipython",
    "version": 3
   },
   "file_extension": ".py",
   "mimetype": "text/x-python",
   "name": "python",
   "nbconvert_exporter": "python",
   "pygments_lexer": "ipython3",
   "version": "3.6.3"
  }
 },
 "nbformat": 4,
 "nbformat_minor": 2
}
