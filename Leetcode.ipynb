{
 "cells": [
  {
   "cell_type": "code",
   "execution_count": 920,
   "metadata": {
    "collapsed": true
   },
   "outputs": [],
   "source": [
    "class Solution:\n",
    "    def twoSum2(self, numbers, target):\n",
    "        \"\"\"\n",
    "        :type numbers: List[int]\n",
    "        :type target: int\n",
    "        :rtype: List[int]\n",
    "        \"\"\"\n",
    "        from collections import defaultdict\n",
    "        \n",
    "        d={}\n",
    "        d = defaultdict(lambda : [None,0] , d)\n",
    "        result =[]\n",
    "        for x in range(len(numbers)):\n",
    "            print(d)\n",
    "            if d[numbers[x]][0] == target-numbers[x]:\n",
    "                result.append(d[numbers[x]][1]+1)\n",
    "                result.append(x+1)\n",
    "                return result\n",
    "            else:\n",
    "                print('hi')\n",
    "                d[target - numbers[x]][0] = numbers[x]\n",
    "                d[target - numbers[x]][1] = x\n",
    "#its better to use None insted of 0 for deafault values in dictionary  \n",
    "# this is for a sorted list"
   ]
  },
  {
   "cell_type": "code",
   "execution_count": 921,
   "metadata": {},
   "outputs": [
    {
     "name": "stdout",
     "output_type": "stream",
     "text": [
      "defaultdict(<function Solution.twoSum2.<locals>.<lambda> at 0x1043f78c8>, {})\n",
      "hi\n",
      "defaultdict(<function Solution.twoSum2.<locals>.<lambda> at 0x1043f78c8>, {-1: [None, 0], 0: [-1, 0]})\n"
     ]
    },
    {
     "data": {
      "text/plain": [
       "[1, 2]"
      ]
     },
     "execution_count": 921,
     "metadata": {},
     "output_type": "execute_result"
    }
   ],
   "source": [
    "Solution.twoSum2(1,[-1,0],-1)"
   ]
  },
  {
   "cell_type": "code",
   "execution_count": 930,
   "metadata": {
    "collapsed": true
   },
   "outputs": [],
   "source": [
    "#twoSum\n",
    "def twoSum1(nums,target):\n",
    "    d={}\n",
    "    for i in range(len(nums)):\n",
    "        \n",
    "        c=target-nums[i]   \n",
    "        if (c in d):\n",
    "            return(nums.index(c),i)\n",
    "        else:\n",
    "            d[nums[i]]=c\n",
    "            #print(\"hi\")\n",
    "# in operator has a time complexity of o(n) for list\n",
    "#use dictionary to make it even faster"
   ]
  },
  {
   "cell_type": "code",
   "execution_count": 931,
   "metadata": {},
   "outputs": [
    {
     "data": {
      "text/plain": [
       "(0, 3)"
      ]
     },
     "execution_count": 931,
     "metadata": {},
     "output_type": "execute_result"
    }
   ],
   "source": [
    "twoSum1([1,2,14,4,6],5)"
   ]
  },
  {
   "cell_type": "code",
   "execution_count": 936,
   "metadata": {
    "collapsed": true
   },
   "outputs": [],
   "source": [
    "#palindrome\n",
    "class Solution:\n",
    "    def isPalindrome(self,s):\n",
    "        ns=[]\n",
    "        t=0\n",
    "        if (len(s) == 0):\n",
    "            print('pallindrome')\n",
    "        for x in range(len(s)):\n",
    "            if (s[x].isalnum()):\n",
    "                ns.append(s[x].lower())\n",
    "        l=len(ns)\n",
    "        for i in range(len(ns)):\n",
    "            if(ns[i]==ns[l-1]):\n",
    "                l=l-1\n",
    "            else:\n",
    "                return False\n",
    "\n",
    "        return True\n",
    "        \n",
    "#isalnum returns a boolean value\n",
    "#.lower() is useful to convert to lower case"
   ]
  },
  {
   "cell_type": "code",
   "execution_count": 937,
   "metadata": {},
   "outputs": [
    {
     "data": {
      "text/plain": [
       "True"
      ]
     },
     "execution_count": 937,
     "metadata": {},
     "output_type": "execute_result"
    }
   ],
   "source": [
    "palindrome(\"A man, a plan, a canal: Panama\")"
   ]
  },
  {
   "cell_type": "code",
   "execution_count": 116,
   "metadata": {
    "collapsed": true
   },
   "outputs": [],
   "source": [
    "#implement strstr ie to find string in a string\n",
    "def strstr(s,k):\n",
    "    l= len(s)\n",
    "    flag=0\n",
    "    lk=len(k)\n",
    "    if(lk>l):\n",
    "        return -1\n",
    "    if (lk==l):\n",
    "        if(s!=k):\n",
    "            return -1\n",
    "    for x in range(len(s)):\n",
    "        if (s[x]==k[0]):\n",
    "            for i in range(len(k)):\n",
    "                if((x+i)>len(s) or (x+i)==len(s)):\n",
    "                    flag=0\n",
    "                    break\n",
    "                print(x)\n",
    "                if((s[x+i]==k[i])):\n",
    "                    flag=flag+1\n",
    "                else:\n",
    "                    flag=0\n",
    "                    break\n",
    "            if(flag==len(k)):\n",
    "                return x\n",
    "    return -1\n",
    "#s.find(k) also works is faster and short but has few exceptions\n"
   ]
  },
  {
   "cell_type": "code",
   "execution_count": 117,
   "metadata": {},
   "outputs": [
    {
     "name": "stdout",
     "output_type": "stream",
     "text": [
      "2\n",
      "2\n",
      "3\n"
     ]
    },
    {
     "data": {
      "text/plain": [
       "-1"
      ]
     },
     "execution_count": 117,
     "metadata": {},
     "output_type": "execute_result"
    }
   ],
   "source": [
    "strstr(\"bbaa\",\"aab\")"
   ]
  },
  {
   "cell_type": "code",
   "execution_count": 939,
   "metadata": {
    "collapsed": true
   },
   "outputs": [],
   "source": [
    "#reverse words\n",
    "def reverse(s):\n",
    "    s1=[]\n",
    "    if(len(s)==0):\n",
    "        return(\"\")\n",
    "    for x in range(len(s)):\n",
    "        if (s[x]!=\" \"):\n",
    "            s1.append(s[x])\n",
    "    if(len(s1)==0):\n",
    "        return(\"\")\n",
    "    if(s[0]==\" \"):\n",
    "        s=s[1:]\n",
    "    if(s[-1]==\" \"):\n",
    "        s=s[:-1]\n",
    "    r = s.split(\" \")\n",
    "    r=r[-1::-1]\n",
    "    o=\" \".join(r)\n",
    "    return (o)\n"
   ]
  },
  {
   "cell_type": "code",
   "execution_count": 942,
   "metadata": {},
   "outputs": [
    {
     "data": {
      "text/plain": [
       "' a '"
      ]
     },
     "execution_count": 942,
     "metadata": {},
     "output_type": "execute_result"
    }
   ],
   "source": [
    "s=\" a \"\n",
    "s=s[::-1]\n",
    "s"
   ]
  },
  {
   "cell_type": "code",
   "execution_count": 940,
   "metadata": {},
   "outputs": [
    {
     "data": {
      "text/plain": [
       "'a'"
      ]
     },
     "execution_count": 940,
     "metadata": {},
     "output_type": "execute_result"
    }
   ],
   "source": [
    "reverse(\" a \")"
   ]
  },
  {
   "cell_type": "code",
   "execution_count": 151,
   "metadata": {
    "collapsed": true
   },
   "outputs": [],
   "source": [
    "#longet Substing without repeating characters\n",
    "class Solution:\n",
    "    def lengthOfLongestSubstring(self, s):\n",
    "        \"\"\"\n",
    "        :type s: str\n",
    "        :rtype: int\n",
    "        \"\"\"\n",
    "\n",
    "        c=[]\n",
    "        maxi=0\n",
    "        for i in range(len(s)):\n",
    "            for j in range(i,len(s)):\n",
    "                if s[j] not in c:\n",
    "                    c.append(s[j])\n",
    "                    if len(c)>=maxi:\n",
    "                        maxi=len(c)\n",
    "                else:\n",
    "                    c=[]\n",
    "                    break\n",
    "            if maxi>=len(s[i:]):\n",
    "                break\n",
    "            if maxi>=95: # 95 is the no of special characters in total.\n",
    "                break\n",
    "        return maxi\n",
    "\n",
    "\n",
    "\n"
   ]
  },
  {
   "cell_type": "code",
   "execution_count": 152,
   "metadata": {},
   "outputs": [
    {
     "data": {
      "text/plain": [
       "3"
      ]
     },
     "execution_count": 152,
     "metadata": {},
     "output_type": "execute_result"
    }
   ],
   "source": [
    "Solution.lengthOfLongestSubstring(1,\"pwwkew\")"
   ]
  },
  {
   "cell_type": "code",
   "execution_count": 32,
   "metadata": {
    "collapsed": true
   },
   "outputs": [],
   "source": [
    "class Solution(object):\n",
    "    def isValid(self, s):\n",
    "        \"\"\"\n",
    "        :type s: str\n",
    "        :rtype: bool\n",
    "        \"\"\"\n",
    "        if len(s)==0:\n",
    "            return True\n",
    "        openbrackets = ['{','[','(']\n",
    "        closedbrackets = ['}',']',')']\n",
    "        if (len(s)%2 != 0):\n",
    "            return False\n",
    "        if(s[0] in closedbrackets):\n",
    "            return False\n",
    "        l=[]\n",
    "        flag=0\n",
    "        for x in range(len(s)):\n",
    "            if s[x] in openbrackets:\n",
    "                l.append(s[x])\n",
    "                flag=1\n",
    "            elif s[x] in closedbrackets:\n",
    "                if l.pop() == openbrackets[closedbrackets.index(s[x])]:\n",
    "                    flag = 0\n",
    "                    continue\n",
    "                else:\n",
    "                    return False\n",
    "        if flag == 0:\n",
    "            return True\n",
    "        else:\n",
    "            return False\n",
    "        \n",
    "#use a dictionary instead of two lists for open and closed brackets.\n",
    "#the always check only for closed and open bracket pair\n",
    "#pop returns the most recent element"
   ]
  },
  {
   "cell_type": "code",
   "execution_count": 33,
   "metadata": {},
   "outputs": [
    {
     "data": {
      "text/plain": [
       "False"
      ]
     },
     "execution_count": 33,
     "metadata": {},
     "output_type": "execute_result"
    }
   ],
   "source": [
    "Solution.isValid(1,\"((\")"
   ]
  },
  {
   "cell_type": "code",
   "execution_count": 211,
   "metadata": {
    "collapsed": true
   },
   "outputs": [],
   "source": [
    "class Solution(object):\n",
    "    def plusOne(self, digits):\n",
    "        \"\"\"\n",
    "        :type digits: List[int]\n",
    "        :rtype: List[int]\n",
    "        \"\"\"\n",
    "        l = len(digits)\n",
    "        x=l-1\n",
    "        while (x>-1):\n",
    "            digits[x] = digits[x]+ 1\n",
    "            if digits[x] < 10: \n",
    "                break \n",
    "            digits[x] = 0\n",
    "            x=x-1    \n",
    "        if digits[0] == 0: \n",
    "            digits = [1] + digits\n",
    "            \n",
    "        return digits\n"
   ]
  },
  {
   "cell_type": "code",
   "execution_count": 212,
   "metadata": {},
   "outputs": [
    {
     "data": {
      "text/plain": [
       "[1, 2, 9, 0]"
      ]
     },
     "execution_count": 212,
     "metadata": {},
     "output_type": "execute_result"
    }
   ],
   "source": [
    "Solution.plusOne(1,[1,2,8,9])"
   ]
  },
  {
   "cell_type": "code",
   "execution_count": 100,
   "metadata": {},
   "outputs": [
    {
     "data": {
      "text/plain": [
       "[4, 3, 2, 1]"
      ]
     },
     "execution_count": 100,
     "metadata": {},
     "output_type": "execute_result"
    }
   ],
   "source": [
    "s = [1,2,3,4]\n",
    "s[::-1]"
   ]
  },
  {
   "cell_type": "code",
   "execution_count": null,
   "metadata": {
    "collapsed": true
   },
   "outputs": [],
   "source": [
    "class MinStack(object):\n",
    "\n",
    "    def __init__(self):\n",
    "        \"\"\"\n",
    "        initialize your data structure here.\n",
    "        \"\"\"\n",
    "        self.c=[]\n",
    "\n",
    "    def push(self, x):\n",
    "        \"\"\"\n",
    "        :type x: int\n",
    "        :rtype: void\n",
    "        \"\"\"\n",
    "        self.c.append(x)\n",
    "\n",
    "    def pop(self):\n",
    "        \"\"\"\n",
    "        :rtype: void\n",
    "        \"\"\"\n",
    "        #return self.c[-1]\n",
    "        self.c=self.c[:-1]\n",
    "\n",
    "    def top(self):\n",
    "        \"\"\"\n",
    "        :rtype: int\n",
    "        \"\"\"\n",
    "        return self.c[-1]\n",
    "\n",
    "    def getMin(self):\n",
    "        \"\"\"\n",
    "        :rtype: int\n",
    "        \"\"\"\n",
    "        return min(self.c)\n",
    "    \n",
    "#implementing stack functionality\n",
    "# MinStack minStack = new MinStack();\n",
    "# minStack.push(-2);\n",
    "# minStack.push(0);\n",
    "# minStack.push(-3);\n",
    "# minStack.getMin();   --> Returns -3.\n",
    "# minStack.pop();\n",
    "# minStack.top();      --> Returns 0.\n",
    "# minStack.getMin();   --> Returns -2.\n"
   ]
  },
  {
   "cell_type": "code",
   "execution_count": 430,
   "metadata": {
    "collapsed": true
   },
   "outputs": [],
   "source": [
    "# Definition for singly-linked list.\n",
    "# class ListNode(object):\n",
    "#     def __init__(self, x):\n",
    "#         self.val = x\n",
    "#         self.next = None\n",
    "\n",
    "class Solution(object):\n",
    "    def reverseList(self, head):\n",
    "        \"\"\"\n",
    "        :type head: ListNode\n",
    "        :rtype: ListNode\n",
    "        \"\"\"\n",
    "        head1,tail1 = head, None\n",
    "        while head1:\n",
    "            head1.next,tail1,head1 = tail1,head1,head1.next\n",
    "        return (tail1)"
   ]
  },
  {
   "cell_type": "code",
   "execution_count": 213,
   "metadata": {
    "collapsed": true
   },
   "outputs": [],
   "source": [
    "# Definition for a binary tree node.\n",
    "# class TreeNode:\n",
    "#     def __init__(self, x):\n",
    "#         self.val = x\n",
    "#         self.left = None\n",
    "#         self.right = None\n",
    "\n",
    "class Solution:\n",
    "    def maxDepth(self, root):\n",
    "        \"\"\"\n",
    "        :type root: TreeNode\n",
    "        :rtype: int\n",
    "        \"\"\"\n",
    "        if (root == None):\n",
    "            return 0\n",
    "        \n",
    "        else:\n",
    "            l = self.maxDepth(root.left)\n",
    "            r = self.maxDepth (root.right)\n",
    "            \n",
    "            l=l+1\n",
    "            r=r+1\n",
    "            \n",
    "            if(l>r):\n",
    "                return l\n",
    "            else :\n",
    "                return r\n",
    "\n",
    "#max depth of binary tree\n"
   ]
  },
  {
   "cell_type": "code",
   "execution_count": null,
   "metadata": {
    "collapsed": true
   },
   "outputs": [],
   "source": [
    "#single number\n",
    "\n",
    "class Solution:\n",
    "    def singleNumber(self, nums):\n",
    "        \"\"\"\n",
    "        :type nums: List[int]\n",
    "        :rtype: int\n",
    "        \"\"\"\n",
    "        a = nums[0]\n",
    "        for elem in nums[1:]:\n",
    "            a = a ^ elem\n",
    "\n",
    "        return a\n",
    "\n",
    "#set solution : return (2*sum(set(nums)) - (sum(nums)))\n",
    "\n",
    "#XOR returns unique elements from a list \n",
    "#XOR is ^\n"
   ]
  },
  {
   "cell_type": "code",
   "execution_count": 232,
   "metadata": {
    "collapsed": true
   },
   "outputs": [],
   "source": [
    "class Solution:\n",
    "    def isPowerOfThree(self, n):\n",
    "        \"\"\"\n",
    "        :type n: int\n",
    "        :rtype: bool\n",
    "        \"\"\"\n",
    "        while n % 3 == 0 and n >= 1:\n",
    "            n /= 3\n",
    "        return n == 1\n",
    "#to check if a number is in power 3 example 9 = 3 ^2\n",
    "# for power of x replace 3 by x"
   ]
  },
  {
   "cell_type": "code",
   "execution_count": 232,
   "metadata": {
    "collapsed": true
   },
   "outputs": [],
   "source": [
    "class Solution:\n",
    "    def reverseVowels(self, s):\n",
    "        from collections import defaultdict\n",
    "        vowels = {'a':True,'e':True,'i':True,'o':True,'u':True,'A':True,'E':True,'I':True,'O':True,'U':True}\n",
    "        vowels = defaultdict(lambda: False, vowels)\n",
    "        r = [c for c in s if vowels[c]]\n",
    "        final1=''\n",
    "        for c in s:\n",
    "            if(vowels[c]==True):\n",
    "                final1=final1 + (r.pop())\n",
    "            elif(vowels[c]==False):\n",
    "                final1=final1 + (c)\n",
    "\n",
    "        return final1\n",
    "# r contains all the vowels in the order on poping from the list we can exchange it while iterating through the loop"
   ]
  },
  {
   "cell_type": "code",
   "execution_count": 230,
   "metadata": {},
   "outputs": [
    {
     "data": {
      "text/plain": [
       "'holle'"
      ]
     },
     "execution_count": 230,
     "metadata": {},
     "output_type": "execute_result"
    }
   ],
   "source": [
    "Solution.reverseVowels(1,\"hello\")"
   ]
  },
  {
   "cell_type": "code",
   "execution_count": 231,
   "metadata": {},
   "outputs": [
    {
     "data": {
      "text/plain": [
       "'euston saw I was not SuE'"
      ]
     },
     "execution_count": 231,
     "metadata": {},
     "output_type": "execute_result"
    }
   ],
   "source": [
    "Solution.reverseVowels(1,\"Euston saw I was not Sue\")"
   ]
  },
  {
   "cell_type": "code",
   "execution_count": 294,
   "metadata": {
    "collapsed": true
   },
   "outputs": [],
   "source": [
    "class Solution:\n",
    "    def firstUniqChar(self, s):\n",
    "        \"\"\"\n",
    "        :type s: str\n",
    "        :rtype: int\n",
    "        \"\"\"\n",
    "        if len(s)==0:\n",
    "            return -1\n",
    "        from collections import defaultdict\n",
    "        d = {}\n",
    "        d = defaultdict(lambda: [0,0], d)\n",
    "        for x in range(len(s)):\n",
    "            d[s[x]][0] = d[s[x]][0] + 1\n",
    "            d[s[x]][1] = x\n",
    "            \n",
    "        for x in s:\n",
    "            if d[x][0] == 1:\n",
    "                return d[x][1]\n",
    "        return -1\n",
    "                \n",
    "# default dict we can provide default values in the dictionary\n",
    "# \n",
    "                "
   ]
  },
  {
   "cell_type": "code",
   "execution_count": 295,
   "metadata": {},
   "outputs": [
    {
     "data": {
      "text/plain": [
       "2"
      ]
     },
     "execution_count": 295,
     "metadata": {},
     "output_type": "execute_result"
    }
   ],
   "source": [
    "Solution.firstUniqChar(1,'loveleetcode')"
   ]
  },
  {
   "cell_type": "code",
   "execution_count": 945,
   "metadata": {
    "collapsed": true
   },
   "outputs": [],
   "source": [
    "class Solution:\n",
    "    def findDisappearedNumbers(self, nums):\n",
    "        \"\"\"\n",
    "        :type nums: List[int]\n",
    "        :rtype: List[int]\n",
    "        \"\"\"\n",
    "        b=set()\n",
    "        length = len(nums)+1\n",
    "        nums = set(nums)\n",
    "        for x in range(1,length):\n",
    "            b.add(x)\n",
    "        return list(b - nums)\n",
    "    \n",
    "# input array is the elements in the range of 1 - length of array\n",
    "#find the missing numbers"
   ]
  },
  {
   "cell_type": "code",
   "execution_count": 946,
   "metadata": {},
   "outputs": [
    {
     "data": {
      "text/plain": [
       "[5, 6]"
      ]
     },
     "execution_count": 946,
     "metadata": {},
     "output_type": "execute_result"
    }
   ],
   "source": [
    "Solution.findDisappearedNumbers(1,[4,3,2,7,8,2,3,1])"
   ]
  },
  {
   "cell_type": "code",
   "execution_count": 343,
   "metadata": {
    "collapsed": true
   },
   "outputs": [],
   "source": [
    "class Solution:\n",
    "    def islandPerimeter(self, grid):\n",
    "        \"\"\"\n",
    "        :type grid: List[List[int]]\n",
    "        :rtype: int\n",
    "        \"\"\"\n",
    "        perimeter = 0\n",
    "        height = len(grid)\n",
    "        width = len(grid[0])\n",
    "        l=1\n",
    "        for i in range(height):\n",
    "            for j in range(width):\n",
    "                if grid[i][j]==1:\n",
    "                    count = 4 # initiliasing such that every element in grid has water on all sides\n",
    "                    if (j!= width-1):\n",
    "                        if(grid[i][j+1] == 1):\n",
    "                            count -= 1\n",
    "                    if (j!=0):\n",
    "                        if(grid[i][j-1]==1):\n",
    "                            count -= 1\n",
    "                    if (i!=0):\n",
    "                        if (grid[i-1][j] == 1):\n",
    "                            count -= 1       \n",
    "                    if (i!= height-1):\n",
    "                        if (grid[i+1][j] == 1):\n",
    "                            count -= 1\n",
    "                    perimeter += count\n",
    "                  \n",
    "        return perimeter\n",
    "#Take 4 sides water for each element in grid then subtract one for every neighbouring landmark"
   ]
  },
  {
   "cell_type": "code",
   "execution_count": 344,
   "metadata": {},
   "outputs": [
    {
     "data": {
      "text/plain": [
       "16"
      ]
     },
     "execution_count": 344,
     "metadata": {},
     "output_type": "execute_result"
    }
   ],
   "source": [
    "Solution.islandPerimeter(1,[[0,1,0,0],[1,1,1,0],[0,1,0,0],[1,1,0,0]])"
   ]
  },
  {
   "cell_type": "code",
   "execution_count": 345,
   "metadata": {
    "collapsed": true
   },
   "outputs": [],
   "source": [
    "class Solution:\n",
    "    def judgeCircle(self, moves):\n",
    "        \"\"\"\n",
    "        :type moves: str\n",
    "        :rtype: bool\n",
    "        \"\"\"\n",
    "        validmove={'U':0,'D':0,'L':0,'R':0}\n",
    "        for x in moves:\n",
    "            validmove[x] = validmove[x] + 1\n",
    "        if (validmove['U']!=validmove['D']):\n",
    "            return False\n",
    "        if (validmove['R']!=validmove['L']):\n",
    "            return False\n",
    "        return True\n",
    "#add move values into dictionary and check if up and down are equal and left-right are equal"
   ]
  },
  {
   "cell_type": "code",
   "execution_count": 357,
   "metadata": {
    "collapsed": true
   },
   "outputs": [],
   "source": [
    "class Solution:\n",
    "    def flipAndInvertImage(self, A):\n",
    "        \"\"\"\n",
    "        :type A: List[List[int]]\n",
    "        :rtype: List[List[int]]\n",
    "        \"\"\"\n",
    "        result=[]\n",
    "        \n",
    "        \n",
    "        for i in A:\n",
    "            i = [int(not(x)) for x in i[::-1]]\n",
    "            result.append(i)\n",
    "        return result\n",
    "#flip is reversing a list\n",
    "#invert is chainging 0 to 1 and vice versae\n"
   ]
  },
  {
   "cell_type": "code",
   "execution_count": 354,
   "metadata": {
    "collapsed": true
   },
   "outputs": [],
   "source": [
    "l=[1,0,1,0]\n",
    "l = [int(not(x)) for x in l]"
   ]
  },
  {
   "cell_type": "code",
   "execution_count": 953,
   "metadata": {},
   "outputs": [
    {
     "data": {
      "text/plain": [
       "True"
      ]
     },
     "execution_count": 953,
     "metadata": {},
     "output_type": "execute_result"
    }
   ],
   "source": [
    "'c'>'b'"
   ]
  },
  {
   "cell_type": "code",
   "execution_count": 359,
   "metadata": {
    "collapsed": true
   },
   "outputs": [],
   "source": [
    "class Solution:\n",
    "    def numUniqueEmails(self, emails):\n",
    "        \"\"\"\n",
    "        :type emails: List[str]\n",
    "        :rtype: int\n",
    "        \"\"\"\n",
    "        \n",
    "        unique = set()\n",
    "        for l in L:\n",
    "            string = ''\n",
    "            local_name, domain_name = l.split('@')\n",
    "            string = string + local_name.strip('.')\n",
    "            for ln in local_name:\n",
    "                if ln == '.':\n",
    "                    continue\n",
    "                elif ln == '+':\n",
    "                    break\n",
    "                else:\n",
    "                    string += ln\n",
    "            string += domain_name\n",
    "            if string in dict_word.keys():\n",
    "                dict_word[string] += 1\n",
    "            else:\n",
    "                dict_word[string] = 1\n",
    "\n",
    "        groups = 0\n",
    "        for _, value in dict_word.items():# useful to iterate dictionary without keys\n",
    "            if value > 1:# we can check if the values of dictionary are greater than one for uniques emails\n",
    "                groups += 1\n",
    "\n",
    "        return groups # if we want to return only unique emails then return only the length of dictionary\n",
    "    \n",
    "    #better solution\n",
    "    def numUniqueEmails1(self, emails):\n",
    "        output = set()\n",
    "        for em in emails:\n",
    "            local,domain = em.split(\"@\")\n",
    "            local = local.replace(\".\",\"\")\n",
    "            locs = local.split(\"+\")\n",
    "            part1 = locs[0] + \"@\" + domain\n",
    "            output.add(part1)\n",
    "        return len(output)\n",
    "# set automatically checks for unique ids only so no need of any for loop "
   ]
  },
  {
   "cell_type": "code",
   "execution_count": 382,
   "metadata": {
    "collapsed": true
   },
   "outputs": [],
   "source": [
    "class Solution:\n",
    "    mapping = {'2':['a','b','c']}\n",
    "    def letterCombinations(self, digits):\n",
    "        \"\"\"\n",
    "        :type digits: str\n",
    "        :rtype: List[str]\n",
    "        \"\"\"\n",
    "        import itertools\n",
    "        mapping = {'2':['a','b','c'],'3':['d','e','f'],'4':['g','h','i'],'5':['j','k','l'],'6': ['m','n','o'],'7':['p','q','r','s'],'8':['t','u','v'],'9':['w','x','y','z']}\n",
    "        ls = []\n",
    "        res = []\n",
    "        for c in digits:\n",
    "            ls.append(mapping.get(c))\n",
    "        print(\"hi\")\n",
    "        print(*ls)\n",
    "        print('product')\n",
    "        print(itertools.product(*ls))\n",
    "        \n",
    "        for list in itertools.product(*ls):\n",
    "            if len(list) != 0:\n",
    "                res.append(''.join(list))\n",
    "        return res\n",
    "                   \n",
    "#print list(product([1,2,3],[3,4]))\n",
    "#gives  -> [(1, 3), (1, 4), (2, 3), (2, 4), (3, 3), (3, 4)]\n",
    "            \n",
    "        "
   ]
  },
  {
   "cell_type": "code",
   "execution_count": 383,
   "metadata": {},
   "outputs": [
    {
     "name": "stdout",
     "output_type": "stream",
     "text": [
      "hi\n",
      "['a', 'b', 'c'] ['d', 'e', 'f']\n",
      "product\n",
      "<itertools.product object at 0x104852510>\n"
     ]
    },
    {
     "data": {
      "text/plain": [
       "['ad', 'ae', 'af', 'bd', 'be', 'bf', 'cd', 'ce', 'cf']"
      ]
     },
     "execution_count": 383,
     "metadata": {},
     "output_type": "execute_result"
    }
   ],
   "source": [
    "Solution.letterCombinations(1,'23')"
   ]
  },
  {
   "cell_type": "code",
   "execution_count": 387,
   "metadata": {
    "collapsed": true
   },
   "outputs": [],
   "source": [
    "class Solution:\n",
    "    def anagramMappings(self, A, B):\n",
    "        \"\"\"\n",
    "        :type A: List[int]\n",
    "        :type B: List[int]\n",
    "        :rtype: List[int]\n",
    "        \"\"\"\n",
    "        k={}\n",
    "        result=[]\n",
    "        i=0\n",
    "        j=0\n",
    "        key = 0\n",
    "        while(i<len(B)):\n",
    "            k[B[i]] = i\n",
    "            i=i+1\n",
    "        for x in A:\n",
    "            result.append(k[x])\n",
    "            \n",
    "        return result \n",
    "#A and B are two lissts\n",
    "# add elements with positions as their hash values to a dictionary \n"
   ]
  },
  {
   "cell_type": "code",
   "execution_count": 389,
   "metadata": {},
   "outputs": [
    {
     "data": {
      "text/plain": [
       "[1, 4, 3, 2, 0]"
      ]
     },
     "execution_count": 389,
     "metadata": {},
     "output_type": "execute_result"
    }
   ],
   "source": [
    "Solution.anagramMappings(1,[12, 28, 46, 32, 50],[50, 12, 32, 46, 28])"
   ]
  },
  {
   "cell_type": "code",
   "execution_count": 958,
   "metadata": {
    "collapsed": true
   },
   "outputs": [],
   "source": [
    "class Solution:\n",
    "    def numJewelsInStones(self, J, S):\n",
    "        \"\"\"\n",
    "        :type J: str\n",
    "        :type S: str\n",
    "        :rtype: int\n",
    "        \"\"\"\n",
    "        jewels ={}\n",
    "        from collections import defaultdict\n",
    "        jewels = defaultdict(lambda : None,jewels)\n",
    "        n=0\n",
    "        for x in J:\n",
    "            jewels[x] = 0\n",
    "        \n",
    "        for x in S:\n",
    "            if (jewels[x]!=None):\n",
    "                jewels[x] = jewels[x]+1\n",
    "        \n",
    "        for x in J:\n",
    "            n=n+jewels[x]\n",
    "    \n",
    "        return n\n",
    "\n",
    "#default dict is used to give default values to new keys or keys which are not present\n",
    "#so the program wont crash when dictionary is accesed with a new key"
   ]
  },
  {
   "cell_type": "code",
   "execution_count": 959,
   "metadata": {},
   "outputs": [
    {
     "data": {
      "text/plain": [
       "3"
      ]
     },
     "execution_count": 959,
     "metadata": {},
     "output_type": "execute_result"
    }
   ],
   "source": [
    "Solution.numJewelsInStones(1,'aA','aAAbbbb')"
   ]
  },
  {
   "cell_type": "code",
   "execution_count": 427,
   "metadata": {},
   "outputs": [],
   "source": [
    "class Solution:\n",
    "    def calPoints(self, ops):\n",
    "        \"\"\"\n",
    "        :type ops: List[str]\n",
    "        :rtype: int\n",
    "        \"\"\"\n",
    "        scores=[]\n",
    "        for x in ops:\n",
    "            print(scores)\n",
    "            try:\n",
    "                float (x)\n",
    "                scores.append(float(x))\n",
    "            except:\n",
    "                if (x=='+'):\n",
    "                    scores.append(scores[-1]+scores[-2])\n",
    "                elif(x=='D'):\n",
    "                    scores.append(scores[-1]*2)\n",
    "                elif(x=='C'):\n",
    "                    scores.pop()\n",
    "        return int(sum(scores))\n",
    "#the try is used to check if a number is float or not \n"
   ]
  },
  {
   "cell_type": "code",
   "execution_count": 429,
   "metadata": {},
   "outputs": [
    {
     "name": "stdout",
     "output_type": "stream",
     "text": [
      "[]\n",
      "[5.0]\n",
      "[5.0, 2.0]\n",
      "[5.0]\n",
      "[5.0, 10.0]\n"
     ]
    },
    {
     "data": {
      "text/plain": [
       "30"
      ]
     },
     "execution_count": 429,
     "metadata": {},
     "output_type": "execute_result"
    }
   ],
   "source": [
    "Solution.calPoints(1,[\"5\",\"2\",\"C\",\"D\",\"+\"])"
   ]
  },
  {
   "cell_type": "code",
   "execution_count": 441,
   "metadata": {},
   "outputs": [],
   "source": [
    "class Solution:\n",
    "    def isAnagram(self, s, t):\n",
    "        \"\"\"\n",
    "        :type s: str\n",
    "        :type t: str\n",
    "        :rtype: bool\n",
    "        \"\"\"\n",
    "        from collections import defaultdict\n",
    "        \n",
    "        check={}\n",
    "        check = defaultdict(lambda : 0,check)\n",
    "        letters = set()\n",
    "        for x in s:\n",
    "            check[x] = check[x]+1\n",
    "            letters.add(x)\n",
    "        for x in t:\n",
    "            check[x] = check[x]-1\n",
    "            letters.add(x)\n",
    "        for x in letters:\n",
    "            if check[x]!=0:\n",
    "                return False\n",
    "        return True"
   ]
  },
  {
   "cell_type": "code",
   "execution_count": 442,
   "metadata": {},
   "outputs": [
    {
     "data": {
      "text/plain": [
       "False"
      ]
     },
     "execution_count": 442,
     "metadata": {},
     "output_type": "execute_result"
    }
   ],
   "source": [
    "Solution.isAnagram(1,'a','ab')"
   ]
  },
  {
   "cell_type": "code",
   "execution_count": 512,
   "metadata": {},
   "outputs": [],
   "source": [
    "class Solution:\n",
    "    def maxProfit(self, prices):\n",
    "        \"\"\"\n",
    "        :type prices: List[int]\n",
    "        :rtype: int\n",
    "        \"\"\"\n",
    "        import math\n",
    "        profit = 0\n",
    "        i=0\n",
    "        j=len(prices)-1\n",
    "        minday = math.inf\n",
    "        \n",
    "        for x in prices:\n",
    "            if x<minday:\n",
    "                minday =x\n",
    "            if x-minday > profit:\n",
    "                profit = x-minday\n",
    "        return profit\n",
    "    \n",
    "# we are first finding the lowest value and then finding the highest point to sell\n",
    "# imagine a graph, then find the lowest point in a valley and following a peak of a mountain\n"
   ]
  },
  {
   "cell_type": "code",
   "execution_count": 513,
   "metadata": {},
   "outputs": [
    {
     "data": {
      "text/plain": [
       "5"
      ]
     },
     "execution_count": 513,
     "metadata": {},
     "output_type": "execute_result"
    }
   ],
   "source": [
    "Solution.maxProfit(1,[7,1,5,3,6,4])"
   ]
  },
  {
   "cell_type": "code",
   "execution_count": 528,
   "metadata": {},
   "outputs": [],
   "source": [
    "class Solution:\n",
    "    def minCostClimbingStairs(self, cost):\n",
    "        \"\"\"\n",
    "        :type cost: List[int]\n",
    "        :rtype: int\n",
    "        \"\"\"\n",
    "        x = 0 \n",
    "        y = 0\n",
    "        z = 0\n",
    "        i = len(cost)-1\n",
    "        while(i>=0):\n",
    "            x = cost[i] + min(z,y)\n",
    "            z=y\n",
    "            y=x\n",
    "            i=i-1\n",
    "        return min(y,z)\n",
    "#dynamic programming \n",
    "#do it in reverse order to find the minimum cost\n"
   ]
  },
  {
   "cell_type": "code",
   "execution_count": 529,
   "metadata": {},
   "outputs": [
    {
     "data": {
      "text/plain": [
       "15"
      ]
     },
     "execution_count": 529,
     "metadata": {},
     "output_type": "execute_result"
    }
   ],
   "source": [
    "Solution.minCostClimbingStairs(1,[10,15,20])"
   ]
  },
  {
   "cell_type": "code",
   "execution_count": 609,
   "metadata": {},
   "outputs": [],
   "source": [
    "class Solution:\n",
    "    def getRow(self,rowIndex):\n",
    "        if rowIndex == 0: \n",
    "            return [1]\n",
    "        A = (self.getRow(rowIndex-1))\n",
    "        print(A)\n",
    "        return [1] + [A[i]+A[i+1] for i in range(len(A)-1)] + [1]\n",
    "#******************* important concept\n"
   ]
  },
  {
   "cell_type": "code",
   "execution_count": 610,
   "metadata": {},
   "outputs": [
    {
     "name": "stdout",
     "output_type": "stream",
     "text": [
      "[1]\n",
      "[1, 1]\n",
      "[1, 2, 1]\n"
     ]
    },
    {
     "data": {
      "text/plain": [
       "[1, 3, 3, 1]"
      ]
     },
     "execution_count": 610,
     "metadata": {},
     "output_type": "execute_result"
    }
   ],
   "source": [
    "C = Solution()\n",
    "C.getRow(3)"
   ]
  },
  {
   "cell_type": "code",
   "execution_count": 632,
   "metadata": {},
   "outputs": [],
   "source": [
    "class Solution:\n",
    "    def rotate(self, nums, k):\n",
    "        \"\"\"\n",
    "        :type nums: List[int]\n",
    "        :type k: int\n",
    "        :rtype: void Do not return anything, modify nums in-place instead.\n",
    "        \"\"\"\n",
    "        k=k%len(nums)\n",
    "        nums[:]=nums[-k:] + nums[:-k]\n",
    "        return nums\n",
    "#rotatitng a list"
   ]
  },
  {
   "cell_type": "code",
   "execution_count": 636,
   "metadata": {},
   "outputs": [
    {
     "data": {
      "text/plain": [
       "[1, 2, 3]"
      ]
     },
     "execution_count": 636,
     "metadata": {},
     "output_type": "execute_result"
    }
   ],
   "source": [
    "C= Solution()\n",
    "C.rotate([1,2,3],6)"
   ]
  },
  {
   "cell_type": "code",
   "execution_count": 651,
   "metadata": {},
   "outputs": [],
   "source": [
    "class Solution:\n",
    "    def countPrimes(self, n):\n",
    "        \"\"\"\n",
    "        :type n: int\n",
    "        :rtype: int\n",
    "        \"\"\"\n",
    "        if n <=2 :\n",
    "            return 0\n",
    "        count = [1] * n\n",
    "        for i in range(2,n):\n",
    "            if count[i] == 1:\n",
    "                j = 2 * i\n",
    "                while j < n:\n",
    "                    count[j] = 0\n",
    "                    j += i\n",
    "        return sum(count)-2\n",
    "#-2 is to remove 0,1 from the count               \n",
    "# we are checking as 2,4,6,8 then 3,6,9and so on "
   ]
  },
  {
   "cell_type": "code",
   "execution_count": 653,
   "metadata": {},
   "outputs": [
    {
     "name": "stdout",
     "output_type": "stream",
     "text": [
      "[1, 1, 1, 1, 1, 1, 1, 1, 1, 1] 2\n",
      "[1, 1, 1, 1, 0, 1, 0, 1, 0, 1] 3\n",
      "[1, 1, 1, 1, 0, 1, 0, 1, 0, 0] 4\n",
      "[1, 1, 1, 1, 0, 1, 0, 1, 0, 0] 5\n",
      "[1, 1, 1, 1, 0, 1, 0, 1, 0, 0] 6\n",
      "[1, 1, 1, 1, 0, 1, 0, 1, 0, 0] 7\n",
      "[1, 1, 1, 1, 0, 1, 0, 1, 0, 0] 8\n",
      "[1, 1, 1, 1, 0, 1, 0, 1, 0, 0] 9\n"
     ]
    },
    {
     "data": {
      "text/plain": [
       "4"
      ]
     },
     "execution_count": 653,
     "metadata": {},
     "output_type": "execute_result"
    }
   ],
   "source": [
    "C= Solution()\n",
    "C.countPrimes(10)"
   ]
  },
  {
   "cell_type": "code",
   "execution_count": 685,
   "metadata": {},
   "outputs": [],
   "source": [
    "class Solution:\n",
    "    def moveZeroes(self, nums):\n",
    "        \"\"\"\n",
    "        :type nums: List[int]\n",
    "        :rtype: void Do not return anything, modify nums in-place instead.\n",
    "        \"\"\"\n",
    "        x=0\n",
    "        l=0\n",
    "        while(l<len(nums)):\n",
    "            print(nums,x,l)\n",
    "            if nums[x] == 0:\n",
    "                nums[:] = nums[:x]+nums[x+1:]+[0]\n",
    "                l=l+1\n",
    "            else:\n",
    "                x=x+1\n",
    "                l=l+1\n",
    "        return nums\n",
    "\n",
    "                "
   ]
  },
  {
   "cell_type": "code",
   "execution_count": 686,
   "metadata": {},
   "outputs": [
    {
     "name": "stdout",
     "output_type": "stream",
     "text": [
      "[4, 2, 4, 0, 0, 3, 0, 5, 1, 0] 0 0\n",
      "[4, 2, 4, 0, 0, 3, 0, 5, 1, 0] 1 1\n",
      "[4, 2, 4, 0, 0, 3, 0, 5, 1, 0] 2 2\n",
      "[4, 2, 4, 0, 0, 3, 0, 5, 1, 0] 3 3\n",
      "[4, 2, 4, 0, 3, 0, 5, 1, 0, 0] 3 4\n",
      "[4, 2, 4, 3, 0, 5, 1, 0, 0, 0] 3 5\n",
      "[4, 2, 4, 3, 0, 5, 1, 0, 0, 0] 4 6\n",
      "[4, 2, 4, 3, 5, 1, 0, 0, 0, 0] 4 7\n",
      "[4, 2, 4, 3, 5, 1, 0, 0, 0, 0] 5 8\n",
      "[4, 2, 4, 3, 5, 1, 0, 0, 0, 0] 6 9\n"
     ]
    },
    {
     "data": {
      "text/plain": [
       "[4, 2, 4, 3, 5, 1, 0, 0, 0, 0]"
      ]
     },
     "execution_count": 686,
     "metadata": {},
     "output_type": "execute_result"
    }
   ],
   "source": [
    "C= Solution()\n",
    "C.moveZeroes([4,2,4,0,0,3,0,5,1,0])"
   ]
  },
  {
   "cell_type": "code",
   "execution_count": 693,
   "metadata": {},
   "outputs": [],
   "source": [
    "class Solution:\n",
    "    def missingNumber(self, nums):\n",
    "        \"\"\"\n",
    "        :type nums: List[int]\n",
    "        :rtype: int\n",
    "        \"\"\"\n",
    "        actualsum = 0\n",
    "        resultingsum = 0\n",
    "        j=0\n",
    "        for i in range(1,len(nums)+1):\n",
    "            actualsum = actualsum + i\n",
    "            resultingsum = resultingsum + nums[j]\n",
    "            j=j+1\n",
    "        \n",
    "        \n",
    "        return (actualsum - resultingsum)\n",
    "#always do the missing num with summing in mind \n",
    "# check if the list is distinct"
   ]
  },
  {
   "cell_type": "code",
   "execution_count": 694,
   "metadata": {},
   "outputs": [
    {
     "data": {
      "text/plain": [
       "2"
      ]
     },
     "execution_count": 694,
     "metadata": {},
     "output_type": "execute_result"
    }
   ],
   "source": [
    "C= Solution()\n",
    "C.missingNumber([3,0,1])"
   ]
  },
  {
   "cell_type": "code",
   "execution_count": 696,
   "metadata": {},
   "outputs": [
    {
     "data": {
      "text/plain": [
       "[1, 3, 4]"
      ]
     },
     "execution_count": 696,
     "metadata": {},
     "output_type": "execute_result"
    }
   ],
   "source": [
    "A = [1,2,3,4]\n",
    "del(A[1])\n",
    "A"
   ]
  },
  {
   "cell_type": "code",
   "execution_count": 697,
   "metadata": {
    "collapsed": true
   },
   "outputs": [],
   "source": [
    "class Solution:\n",
    "    def majorityElement(self, nums):\n",
    "        \"\"\"\n",
    "        :type nums: List[int]\n",
    "        :rtype: int\n",
    "        \"\"\"\n",
    "        d={}\n",
    "        from collections import defaultdict\n",
    "        d=defaultdict(lambda: 0,d)\n",
    "        \n",
    "        \n",
    "        for x in nums:\n",
    "            d[x]=d[x]+1\n",
    "            if(d[x]>len(nums)/2):\n",
    "                return x\n",
    "#dictionary keeps track of occurences of every element."
   ]
  },
  {
   "cell_type": "code",
   "execution_count": 698,
   "metadata": {},
   "outputs": [
    {
     "data": {
      "text/plain": [
       "2"
      ]
     },
     "execution_count": 698,
     "metadata": {},
     "output_type": "execute_result"
    }
   ],
   "source": [
    "C= Solution()\n",
    "C.majorityElement([1,2,2,2,2,3])"
   ]
  },
  {
   "cell_type": "code",
   "execution_count": 702,
   "metadata": {
    "collapsed": true
   },
   "outputs": [],
   "source": [
    "class Solution:\n",
    "    def climbStairs(self, n):\n",
    "        \"\"\"\n",
    "        :type n: int\n",
    "        :rtype: int\n",
    "        \"\"\"\n",
    "        if n==1:\n",
    "            return 1\n",
    "        \n",
    "        step1 = 1 \n",
    "        step2 = 2\n",
    "        \n",
    "        for x in range(3,n+1):\n",
    "            finalstep = step1 + step2\n",
    "            step1 = step2\n",
    "            step2 = finalstep\n",
    "        return step2\n",
    "# the main idea is of dynamic programming \n",
    "# here the concept of dynamic programming is similar to that of fibonacci \n",
    "# to reach step ith we need to reach i-1 or i-2 so total ways would be no of steps to reach i-1 and i-2\n",
    "# and this continues till 1 and 0 since we can take either 1 step or 2 step from begining so the range starts from 3"
   ]
  },
  {
   "cell_type": "code",
   "execution_count": 703,
   "metadata": {},
   "outputs": [
    {
     "data": {
      "text/plain": [
       "13"
      ]
     },
     "execution_count": 703,
     "metadata": {},
     "output_type": "execute_result"
    }
   ],
   "source": [
    "C = Solution()\n",
    "C.climbStairs(6)"
   ]
  },
  {
   "cell_type": "code",
   "execution_count": 918,
   "metadata": {},
   "outputs": [],
   "source": [
    "class Solution:\n",
    "    def findAnagrams(self, s, p):\n",
    "        \"\"\"\n",
    "        :type s: str\n",
    "        :type p: str\n",
    "        :rtype: List[int]\n",
    "        \"\"\"\n",
    "        l=[]\n",
    "        listp=list(p)\n",
    "        x=0\n",
    "        while(x<len(s)):\n",
    "            if s[x] in listp:\n",
    "                del(listp[listp.index(s[x])])\n",
    "                if(len(listp)==0):\n",
    "                    l.append(x-len(p)+1)\n",
    "                    listp=list(p)\n",
    "                    \n",
    "                x=x+1\n",
    "                \n",
    "            else:\n",
    "                x=x+1\n",
    "        return l\n",
    "        "
   ]
  },
  {
   "cell_type": "code",
   "execution_count": 919,
   "metadata": {},
   "outputs": [
    {
     "data": {
      "text/plain": [
       "[0, 2]"
      ]
     },
     "execution_count": 919,
     "metadata": {},
     "output_type": "execute_result"
    }
   ],
   "source": [
    "C = Solution()\n",
    "C.findAnagrams(\"abab\",\"ab\")"
   ]
  },
  {
   "cell_type": "code",
   "execution_count": 852,
   "metadata": {},
   "outputs": [
    {
     "data": {
      "text/plain": [
       "[1, 2, 4]"
      ]
     },
     "execution_count": 852,
     "metadata": {},
     "output_type": "execute_result"
    }
   ],
   "source": [
    "a=[1,2,2,4]\n",
    "del(a[a.index(2)])\n",
    "a"
   ]
  },
  {
   "cell_type": "code",
   "execution_count": null,
   "metadata": {
    "collapsed": true
   },
   "outputs": [],
   "source": []
  },
  {
   "cell_type": "code",
   "execution_count": null,
   "metadata": {
    "collapsed": true
   },
   "outputs": [],
   "source": []
  }
 ],
 "metadata": {
  "kernelspec": {
   "display_name": "Python 3",
   "language": "python",
   "name": "python3"
  },
  "language_info": {
   "codemirror_mode": {
    "name": "ipython",
    "version": 3
   },
   "file_extension": ".py",
   "mimetype": "text/x-python",
   "name": "python",
   "nbconvert_exporter": "python",
   "pygments_lexer": "ipython3",
   "version": "3.6.3"
  }
 },
 "nbformat": 4,
 "nbformat_minor": 2
}
